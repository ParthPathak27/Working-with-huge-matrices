{
  "nbformat": 4,
  "nbformat_minor": 0,
  "metadata": {
    "colab": {
      "name": "large_matrix.ipynb",
      "provenance": [],
      "collapsed_sections": [],
      "authorship_tag": "ABX9TyOVG8ku69s5FcS1RW0RpLoC",
      "include_colab_link": true
    },
    "kernelspec": {
      "display_name": "Python 3",
      "name": "python3"
    }
  },
  "cells": [
    {
      "cell_type": "markdown",
      "metadata": {
        "id": "view-in-github",
        "colab_type": "text"
      },
      "source": [
        "<a href=\"https://colab.research.google.com/github/ParthPathak27/Working-with-huge-matrices/blob/main/large_matrix.ipynb\" target=\"_parent\"><img src=\"https://colab.research.google.com/assets/colab-badge.svg\" alt=\"Open In Colab\"/></a>"
      ]
    },
    {
      "cell_type": "markdown",
      "metadata": {
        "id": "iLqhHc5NfX63"
      },
      "source": [
        "# Assignment 7\n",
        "# Software Tools (CSP007P1M)\n",
        "## Author: Parth Pathak (2020PCS1013)\n",
        "\n",
        "\n",
        "### Here we will generate a random dense matrix of order 10K and perform the following computations:\n",
        "\n",
        "*   Eigen Values\n",
        "\n",
        "*   Eigen Vectors\n",
        "\n",
        "*   Rank of Matrix\n",
        "\n",
        "*   Inverse of Matix\n",
        "\n",
        "\n"
      ]
    },
    {
      "cell_type": "code",
      "metadata": {
        "id": "lv8e5cD1rpjj"
      },
      "source": [
        "#Import the required libraries\n",
        "import numpy as NP\n",
        "from scipy import linalg as LA"
      ],
      "execution_count": null,
      "outputs": []
    },
    {
      "cell_type": "markdown",
      "metadata": {
        "id": "nBBiDR_lfPHC"
      },
      "source": [
        "Now we will generate the random dense matrix of order 10K"
      ]
    },
    {
      "cell_type": "code",
      "metadata": {
        "id": "oxnvxtIDrvm1"
      },
      "source": [
        "A = NP.random.randint(0, 1000000, 100000000).reshape(10000, 10000)"
      ],
      "execution_count": null,
      "outputs": []
    },
    {
      "cell_type": "code",
      "metadata": {
        "colab": {
          "base_uri": "https://localhost:8080/"
        },
        "id": "huj5Aqw8sMEf",
        "outputId": "8f2d046c-7a80-491c-d367-b3e1f34fa67b"
      },
      "source": [
        "A"
      ],
      "execution_count": null,
      "outputs": [
        {
          "output_type": "execute_result",
          "data": {
            "text/plain": [
              "array([[266813, 890006, 565362, ..., 925799, 479472, 502536],\n",
              "       [660829, 423396, 779827, ..., 437884,  37041, 484341],\n",
              "       [240842, 955144, 446636, ..., 284699,  76166, 668475],\n",
              "       ...,\n",
              "       [642473, 853136,  22799, ..., 983562, 658998, 973683],\n",
              "       [889509, 498489, 785399, ..., 272395, 714255,  83981],\n",
              "       [605141, 759174, 812774, ..., 832034, 438975, 127777]])"
            ]
          },
          "metadata": {
            "tags": []
          },
          "execution_count": 4
        }
      ]
    },
    {
      "cell_type": "markdown",
      "metadata": {
        "id": "GxJBSFv_6ckE"
      },
      "source": [
        "We now will calculate it's eigen values and corresponding the eigen vectors using eig() method which takes the matrix as an input"
      ]
    },
    {
      "cell_type": "code",
      "metadata": {
        "id": "xll0J0nktPSF"
      },
      "source": [
        "e_vals, e_vecs = LA.eig(A)"
      ],
      "execution_count": null,
      "outputs": []
    },
    {
      "cell_type": "code",
      "metadata": {
        "colab": {
          "base_uri": "https://localhost:8080/"
        },
        "id": "rC2AipcptZfE",
        "outputId": "e48a3093-6fbe-4288-9722-4cd2db64c7dd"
      },
      "source": [
        "print(e_vals)"
      ],
      "execution_count": null,
      "outputs": [
        {
          "output_type": "stream",
          "text": [
            "[ 5.00015530e+09       +0.j          2.22364480e+07+18737520.61818405j\n",
            "  2.22364480e+07-18737520.61818405j ... -2.26407501e+05  -306887.63584956j\n",
            " -1.15979275e+05       +0.j          2.34500439e+05       +0.j        ]\n"
          ],
          "name": "stdout"
        }
      ]
    },
    {
      "cell_type": "code",
      "metadata": {
        "colab": {
          "base_uri": "https://localhost:8080/"
        },
        "id": "9eCe65SUw7Cd",
        "outputId": "2462d8be-c5d1-4c5d-ec4d-03ff5bb60b1e"
      },
      "source": [
        "print(e_vecs)"
      ],
      "execution_count": null,
      "outputs": [
        {
          "output_type": "stream",
          "text": [
            "[[ 0.00988017+0.j         -0.00329969-0.0043201j  -0.00329969+0.0043201j\n",
            "  ...  0.012172  -0.00330143j  0.00544875+0.j\n",
            "  -0.01303829+0.j        ]\n",
            " [ 0.00998332+0.j          0.00047623-0.00701543j  0.00047623+0.00701543j\n",
            "  ... -0.00943363+0.00726004j  0.00064274+0.j\n",
            "  -0.00236675+0.j        ]\n",
            " [ 0.01003532+0.j          0.00228714-0.00125028j  0.00228714+0.00125028j\n",
            "  ...  0.0081797 -0.00410054j  0.00337774+0.j\n",
            "  -0.0032809 +0.j        ]\n",
            " ...\n",
            " [ 0.00996164+0.j          0.00583689-0.00281803j  0.00583689+0.00281803j\n",
            "  ... -0.00799314+0.00211445j  0.00871272+0.j\n",
            "   0.01476085+0.j        ]\n",
            " [ 0.01006311+0.j         -0.01407052-0.00544307j -0.01407052+0.00544307j\n",
            "  ... -0.00439879-0.00534317j  0.01512484+0.j\n",
            "  -0.00314076+0.j        ]\n",
            " [ 0.01005718+0.j          0.00174954+0.00370296j  0.00174954-0.00370296j\n",
            "  ... -0.01209761+0.0091231j   0.01722685+0.j\n",
            "   0.01334618+0.j        ]]\n"
          ],
          "name": "stdout"
        }
      ]
    },
    {
      "cell_type": "markdown",
      "metadata": {
        "id": "rMRxhWvc62ZZ"
      },
      "source": [
        "After calculating eigen values and corresponding eigen vectors of matrix, we now will compute it's rank using matrix_rank() method"
      ]
    },
    {
      "cell_type": "code",
      "metadata": {
        "colab": {
          "base_uri": "https://localhost:8080/"
        },
        "id": "Yf5SlOtqw97j",
        "outputId": "5f1d5197-415d-4400-eabf-b92a624b793b"
      },
      "source": [
        "NP.linalg.matrix_rank(A)"
      ],
      "execution_count": null,
      "outputs": [
        {
          "output_type": "execute_result",
          "data": {
            "text/plain": [
              "10000"
            ]
          },
          "metadata": {
            "tags": []
          },
          "execution_count": 6
        }
      ]
    },
    {
      "cell_type": "code",
      "metadata": {
        "id": "h-Js8raG7onP"
      },
      "source": [
        "(sign, logdet) = NP.linalg.slogdet(A)"
      ],
      "execution_count": null,
      "outputs": []
    },
    {
      "cell_type": "markdown",
      "metadata": {
        "id": "PPK5nyI8-W2K"
      },
      "source": [
        "If an array has a very small or very large determinant, then a call to det may overflow or underflow. This routine is more robust against such issues, because it computes the logarithm of the determinant rather than the determinant itself. It will Compute the sign and (natural) logarithm of the determinant of an array"
      ]
    },
    {
      "cell_type": "code",
      "metadata": {
        "colab": {
          "base_uri": "https://localhost:8080/"
        },
        "id": "4pj-WGPP9PW0",
        "outputId": "f377bac0-f86e-49a8-cdc1-3e0df5d371d8"
      },
      "source": [
        "sign, logdet"
      ],
      "execution_count": null,
      "outputs": [
        {
          "output_type": "execute_result",
          "data": {
            "text/plain": [
              "(-1.0, 166787.26263788575)"
            ]
          },
          "metadata": {
            "tags": []
          },
          "execution_count": 22
        }
      ]
    },
    {
      "cell_type": "markdown",
      "metadata": {
        "id": "yc_z8cKM7VSt"
      },
      "source": [
        "As the determinant of matrix is nonzero it's invertible and we can compute it's inverse using inv() method"
      ]
    },
    {
      "cell_type": "code",
      "metadata": {
        "id": "vHhVUH47yUR4"
      },
      "source": [
        "A_inv = NP.linalg.inv(A)"
      ],
      "execution_count": null,
      "outputs": []
    },
    {
      "cell_type": "code",
      "metadata": {
        "id": "Im--4wka83Ac",
        "colab": {
          "base_uri": "https://localhost:8080/"
        },
        "outputId": "46fbb5d9-6946-4141-fa95-8394457a39f1"
      },
      "source": [
        "A_inv"
      ],
      "execution_count": null,
      "outputs": [
        {
          "output_type": "execute_result",
          "data": {
            "text/plain": [
              "array([[ 3.14353209e-08,  1.26704783e-07, -1.61463804e-07, ...,\n",
              "         5.72613051e-08,  3.84093974e-08, -5.95913239e-09],\n",
              "       [-1.82515342e-08, -6.52952656e-08,  1.17675524e-07, ...,\n",
              "        -4.41216192e-08, -3.08159302e-08, -3.58589545e-09],\n",
              "       [ 4.43828477e-08,  8.93967271e-08, -2.31152858e-07, ...,\n",
              "         2.29633180e-08,  3.10946466e-08, -6.38651151e-08],\n",
              "       ...,\n",
              "       [-9.70635722e-09, -5.53745935e-08,  9.10369530e-08, ...,\n",
              "        -1.06435700e-08, -3.78086499e-08,  1.13322397e-08],\n",
              "       [ 1.05466744e-09,  2.15709344e-08,  2.90370396e-08, ...,\n",
              "        -1.97155126e-10,  1.92683099e-09, -2.18945114e-09],\n",
              "       [-4.33054740e-08, -5.48664509e-08,  1.99163752e-07, ...,\n",
              "        -1.93001942e-08, -8.27397943e-08,  7.83259453e-08]])"
            ]
          },
          "metadata": {
            "tags": []
          },
          "execution_count": 8
        }
      ]
    },
    {
      "cell_type": "markdown",
      "metadata": {
        "id": "BSkdwbJZ9cx_"
      },
      "source": [
        "### Now We will generate the random non-square matrix of order 9999 by 999 and will try to compute it's pseudo inverse"
      ]
    },
    {
      "cell_type": "code",
      "metadata": {
        "id": "9yqKXkxhCoWB"
      },
      "source": [
        "B = NP.random.randn(9999, 999)"
      ],
      "execution_count": null,
      "outputs": []
    },
    {
      "cell_type": "markdown",
      "metadata": {
        "id": "6NcAWlQ29xHC"
      },
      "source": [
        "B is non-square matrix of order 9999 by 999"
      ]
    },
    {
      "cell_type": "code",
      "metadata": {
        "colab": {
          "base_uri": "https://localhost:8080/"
        },
        "id": "XzF-d38HeHNZ",
        "outputId": "dfe5e988-0c2e-4946-8515-52bc0dba6de5"
      },
      "source": [
        "B"
      ],
      "execution_count": null,
      "outputs": [
        {
          "output_type": "execute_result",
          "data": {
            "text/plain": [
              "array([[ 0.91536408,  0.04453584,  3.23245023, ...,  1.19416037,\n",
              "         0.86780103, -0.5131803 ],\n",
              "       [-0.67222387,  0.38964402,  0.93362178, ..., -0.43696912,\n",
              "         0.9294176 , -1.56300554],\n",
              "       [-2.00321757, -0.41119005,  0.1401192 , ...,  1.31344689,\n",
              "        -0.08157576, -0.0063848 ],\n",
              "       ...,\n",
              "       [-2.54074946, -0.2225674 , -1.55710343, ..., -0.41612036,\n",
              "         1.29384848, -0.69973097],\n",
              "       [-1.36503618, -0.82021558,  0.5500444 , ..., -2.25231363,\n",
              "         0.58924284, -0.21572682],\n",
              "       [ 1.17321131,  0.81381791,  0.29275816, ..., -0.79713181,\n",
              "         1.04237268,  0.12506286]])"
            ]
          },
          "metadata": {
            "tags": []
          },
          "execution_count": 14
        }
      ]
    },
    {
      "cell_type": "markdown",
      "metadata": {
        "id": "_IdPHuJs93uc"
      },
      "source": [
        "Here we will use pinv() method to find the inverse of non-square matrix B"
      ]
    },
    {
      "cell_type": "code",
      "metadata": {
        "id": "_rWXoep9eFqE"
      },
      "source": [
        "B_inv = NP.linalg.pinv(B)"
      ],
      "execution_count": null,
      "outputs": []
    },
    {
      "cell_type": "code",
      "metadata": {
        "colab": {
          "base_uri": "https://localhost:8080/"
        },
        "id": "9xUf9d0JdbU1",
        "outputId": "14200b54-9e98-4887-e16a-49757d0708d4"
      },
      "source": [
        "B_inv"
      ],
      "execution_count": null,
      "outputs": [
        {
          "output_type": "execute_result",
          "data": {
            "text/plain": [
              "array([[ 1.03189304e-04, -6.76916225e-05, -1.85817409e-04, ...,\n",
              "        -2.64124620e-04, -1.88635179e-04,  1.07182581e-04],\n",
              "       [ 1.94091038e-05,  2.76676018e-05,  2.09576322e-05, ...,\n",
              "         6.97033372e-06, -7.26873688e-05,  6.50542463e-05],\n",
              "       [ 3.24368541e-04,  7.46403885e-05, -1.17120958e-05, ...,\n",
              "        -1.58725670e-04,  9.23596523e-06, -3.83106000e-06],\n",
              "       ...,\n",
              "       [ 1.05810840e-04, -6.15802710e-05,  1.11055579e-04, ...,\n",
              "        -2.48599252e-05, -2.15826741e-04, -4.55640443e-05],\n",
              "       [ 1.16682721e-04,  6.84848377e-05,  2.73918683e-05, ...,\n",
              "         1.85963711e-04,  8.51450403e-05,  1.03698036e-04],\n",
              "       [-6.64179982e-05, -1.21424072e-04,  2.85756136e-05, ...,\n",
              "        -6.53659287e-05, -3.58786329e-06,  9.58713244e-06]])"
            ]
          },
          "metadata": {
            "tags": []
          },
          "execution_count": 16
        }
      ]
    },
    {
      "cell_type": "code",
      "metadata": {
        "id": "nxPr2v25dc-C"
      },
      "source": [
        ""
      ],
      "execution_count": null,
      "outputs": []
    }
  ]
}